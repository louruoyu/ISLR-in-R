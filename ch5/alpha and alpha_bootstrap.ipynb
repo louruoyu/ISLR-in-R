{
 "cells": [
  {
   "cell_type": "code",
   "execution_count": 1,
   "metadata": {},
   "outputs": [],
   "source": [
    "library(mvtnorm)"
   ]
  },
  {
   "cell_type": "code",
   "execution_count": 2,
   "metadata": {},
   "outputs": [],
   "source": [
    "set.seed(1)\n",
    "n=100\n",
    "m=1000\n",
    "sigmaX=1\n",
    "sigmaY=1.25\n",
    "sigmaXY=0.5\n",
    "sigMat=matrix(c(sigmaX,sigmaXY,sigmaXY,sigmaY),2,2)"
   ]
  },
  {
   "cell_type": "code",
   "execution_count": 3,
   "metadata": {},
   "outputs": [
    {
     "data": {
      "text/html": [
       "<table class=\"dataframe\">\n",
       "<caption>A matrix: 2 × 2 of type dbl</caption>\n",
       "<tbody>\n",
       "\t<tr><td>1.0</td><td>0.50</td></tr>\n",
       "\t<tr><td>0.5</td><td>1.25</td></tr>\n",
       "</tbody>\n",
       "</table>\n"
      ],
      "text/latex": [
       "A matrix: 2 × 2 of type dbl\n",
       "\\begin{tabular}{ll}\n",
       "\t 1.0 & 0.50\\\\\n",
       "\t 0.5 & 1.25\\\\\n",
       "\\end{tabular}\n"
      ],
      "text/markdown": [
       "\n",
       "A matrix: 2 × 2 of type dbl\n",
       "\n",
       "| 1.0 | 0.50 |\n",
       "| 0.5 | 1.25 |\n",
       "\n"
      ],
      "text/plain": [
       "     [,1] [,2]\n",
       "[1,] 1.0  0.50\n",
       "[2,] 0.5  1.25"
      ]
     },
     "metadata": {},
     "output_type": "display_data"
    }
   ],
   "source": [
    "sigMat"
   ]
  },
  {
   "cell_type": "code",
   "execution_count": 4,
   "metadata": {},
   "outputs": [
    {
     "data": {
      "text/html": [
       "0.60017135625499"
      ],
      "text/latex": [
       "0.60017135625499"
      ],
      "text/markdown": [
       "0.60017135625499"
      ],
      "text/plain": [
       "[1] 0.6001714"
      ]
     },
     "metadata": {},
     "output_type": "display_data"
    },
    {
     "data": {
      "text/html": [
       "0.0822417989617369"
      ],
      "text/latex": [
       "0.0822417989617369"
      ],
      "text/markdown": [
       "0.0822417989617369"
      ],
      "text/plain": [
       "[1] 0.0822418"
      ]
     },
     "metadata": {},
     "output_type": "display_data"
    },
    {
     "data": {
      "image/png": "[encoded data removed]",
      "text/plain": [
       "Plot with title \"Histogram of alpha\""
      ]
     },
     "metadata": {
      "image/png": {
       "height": 420,
       "width": 420
      }
     },
     "output_type": "display_data"
    }
   ],
   "source": [
    "alpha=rep(0,m)\n",
    "for(i in 1:m){\n",
    "    result=rmvnorm(n,rep(0,2),sigMat) #n,mean,sigma\n",
    "    X=result[,1]\n",
    "    Y=result[,2]\n",
    "    alpha[i]=(var(Y)-cov(X,Y))/(var(X)+var(Y)-2*cov(X,Y))\n",
    "}\n",
    "mean(alpha)\n",
    "sd(alpha)\n",
    "hist(alpha,10)\n",
    "abline(v=0.6,col='red',lwd=2)"
   ]
  },
  {
   "cell_type": "code",
   "execution_count": 5,
   "metadata": {},
   "outputs": [],
   "source": [
    "set.seed(1)\n",
    "n=100\n",
    "B=1000\n",
    "returns=rmvnorm(n,rep(0,2),sigMat)"
   ]
  },
  {
   "cell_type": "code",
   "execution_count": 6,
   "metadata": {},
   "outputs": [
    {
     "data": {
      "text/html": [
       "0.624601796774549"
      ],
      "text/latex": [
       "0.624601796774549"
      ],
      "text/markdown": [
       "0.624601796774549"
      ],
      "text/plain": [
       "[1] 0.6246018"
      ]
     },
     "metadata": {},
     "output_type": "display_data"
    },
    {
     "data": {
      "text/html": [
       "0.0806124760189754"
      ],
      "text/latex": [
       "0.0806124760189754"
      ],
      "text/markdown": [
       "0.0806124760189754"
      ],
      "text/plain": [
       "[1] 0.08061248"
      ]
     },
     "metadata": {},
     "output_type": "display_data"
    },
    {
     "data": {
      "image/png": "[encoded data removed]",
      "text/plain": [
       "Plot with title \"Histogram of alpha_bootstrap\""
      ]
     },
     "metadata": {
      "image/png": {
       "height": 420,
       "width": 420
      }
     },
     "output_type": "display_data"
    }
   ],
   "source": [
    "alpha_bootstrap=rep(0,B)\n",
    "for(i in 1:B){\n",
    "    return_i=returns[sample(1:nrow(returns),n,replace = T),]\n",
    "    X=return_i[,1]\n",
    "    Y=return_i[,2]\n",
    "    alpha_bootstrap[i]=(var(Y)-cov(X,Y))/(var(X)+var(Y)-2*cov(X,Y))\n",
    "}\n",
    "mean(alpha_bootstrap)\n",
    "sd(alpha_bootstrap)\n",
    "hist(alpha_bootstrap,10)\n",
    "abline(v=0.6,col=\"red\",lwd=2)"
   ]
  },
  {
   "cell_type": "code",
   "execution_count": null,
   "metadata": {},
   "outputs": [],
   "source": []
  }
 ],
 "metadata": {
  "kernelspec": {
   "display_name": "R",
   "language": "R",
   "name": "ir"
  },
  "language_info": {
   "codemirror_mode": "r",
   "file_extension": ".r",
   "mimetype": "text/x-r-source",
   "name": "R",
   "pygments_lexer": "r",
   "version": "4.0.4"
  },
  "varInspector": {
   "cols": {
    "lenName": 16,
    "lenType": 16,
    "lenVar": 40
   },
   "kernels_config": {
    "python": {
     "delete_cmd_postfix": "",
     "delete_cmd_prefix": "del ",
     "library": "var_list.py",
     "varRefreshCmd": "print(var_dic_list())"
    },
    "r": {
     "delete_cmd_postfix": ") ",
     "delete_cmd_prefix": "rm(",
     "library": "var_list.r",
     "varRefreshCmd": "cat(var_dic_list()) "
    }
   },
   "types_to_exclude": [
    "module",
    "function",
    "builtin_function_or_method",
    "instance",
    "_Feature"
   ],
   "window_display": false
  }
 },
 "nbformat": 4,
 "nbformat_minor": 4
}
